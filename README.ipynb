{
 "cells": [
  {
   "cell_type": "code",
   "execution_count": 1,
   "metadata": {},
   "outputs": [
    {
     "name": "stdout",
     "output_type": "stream",
     "text": [
      "\n"
     ]
    }
   ],
   "source": [
    "ORION_SERVER_PRIVATE=192.168.4.230\n",
    "ORION_SERVER_PUBLIC=84.89.60.4\n",
    "ORION_PORT=80"
   ]
  },
  {
   "cell_type": "code",
   "execution_count": 2,
   "metadata": {},
   "outputs": [
    {
     "name": "stdout",
     "output_type": "stream",
     "text": [
      "\n"
     ]
    }
   ],
   "source": [
    "ORION_SERVER=$ORION_SERVER_PRIVATE"
   ]
  },
  {
   "cell_type": "markdown",
   "metadata": {},
   "source": [
    "## Installation / configuration"
   ]
  },
  {
   "cell_type": "markdown",
   "metadata": {},
   "source": [
    "### Connectivity test"
   ]
  },
  {
   "cell_type": "code",
   "execution_count": 9,
   "metadata": {},
   "outputs": [
    {
     "name": "stdout",
     "output_type": "stream",
     "text": [
      "{\r\n",
      "\"orion\" : {\r\n",
      "  \"version\" : \"1.11.0-next\",\r\n",
      "  \"uptime\" : \"0 d, 1 h, 6 m, 41 s\",\r\n",
      "  \"git_hash\" : \"781d3b621e88a5124be8c6ae3f57a88a3dcc160a\",\r\n",
      "  \"compile_time\" : \"Wed Feb 14 11:09:08 UTC 2018\",\r\n",
      "  \"compiled_by\" : \"root\",\r\n",
      "  \"compiled_in\" : \"88eb02e35773\",\r\n",
      "  \"release_date\" : \"Wed Feb 14 11:09:08 UTC 2018\",\r\n",
      "  \"doc\" : \"https://fiware-orion.readthedocs.org/en/master/\"\r\n",
      "}\r\n",
      "}\r\n",
      "\n"
     ]
    }
   ],
   "source": [
    "curl http://$ORION_SERVER:$ORION_PORT/version"
   ]
  },
  {
   "cell_type": "markdown",
   "metadata": {},
   "source": [
    "### Register entity"
   ]
  },
  {
   "cell_type": "markdown",
   "metadata": {},
   "source": [
    "Each entity must have an unique identifier!!\n",
    "\n",
    "Remember to define your related type, would be used to filter all available sensors"
   ]
  },
  {
   "cell_type": "code",
   "execution_count": 4,
   "metadata": {},
   "outputs": [
    {
     "name": "stdout",
     "output_type": "stream",
     "text": [
      "\n"
     ]
    }
   ],
   "source": [
    "MY_UNIQUE_ID=\"bressol\"\n",
    "MY_TYPE=\"bebe\""
   ]
  },
  {
   "cell_type": "code",
   "execution_count": 5,
   "metadata": {},
   "outputs": [
    {
     "name": "stdout",
     "output_type": "stream",
     "text": [
      "\n"
     ]
    }
   ],
   "source": [
    "curl $ORION_SERVER:$ORION_PORT/v2/entities \\\n",
    "   -X POST -s -S --header  'Content-Type: application/json' -d @- <<EOF\n",
    "{\n",
    "  \"id\": \"$MY_UNIQUE_ID\",\n",
    "  \"type\": \"$MY_TYPE\",\n",
    "  \"description\": {\n",
    "    \"value\": \"Bressol automàtic per bebes\",\n",
    "    \"type\": \"String\"\n",
    "  },\n",
    "  \"estat\": {\n",
    "    \"value\": \"on\",\n",
    "    \"type\": \"String\"\n",
    "  }\n",
    "}\n",
    "EOF"
   ]
  },
  {
   "cell_type": "markdown",
   "metadata": {},
   "source": [
    "### Query this entity\n",
    "\n",
    "Based on our type, fetch it from the server"
   ]
  },
  {
   "cell_type": "code",
   "execution_count": 70,
   "metadata": {},
   "outputs": [
    {
     "name": "stdout",
     "output_type": "stream",
     "text": [
      "[{\"id\":\"my_entityasdada\",\"type\":\"my_type\",\"city_location\":{\"type\":\"City\",\"value\":\"Madrid\",\"metadata\":{}},\"temperaturetttt\":{\"type\":\"Number\",\"value\":23.8,\"metadata\":{}}},{\"id\":\"my_entityasdaaada\",\"type\":\"my_type\",\"description\":{\"type\":\"City\",\"value\":\"Madrid\",\"metadata\":{}},\"temperaturetttt\":{\"type\":\"Number\",\"value\":23.8,\"metadata\":{}}},{\"id\":\"my_entityasdaaaada\",\"type\":\"my_type\",\"description\":{\"type\":\"String\",\"value\":\"Summary of this entity...\",\"metadata\":{}},\"temperaturetttt\":{\"type\":\"Number\",\"value\":23.8,\"metadata\":{}}},{\"id\":\"my_entityasdaxaaada\",\"type\":\"my_type\",\"description\":{\"type\":\"String\",\"value\":\"Summary of this entity...\",\"metadata\":{}},\"var1\":{\"type\":\"Float\",\"value\":23.8,\"metadata\":{}}}]\n"
     ]
    }
   ],
   "source": [
    "curl $ORION_SERVER:$ORION_PORT/v2/entities?type=$MY_TYPE"
   ]
  },
  {
   "cell_type": "markdown",
   "metadata": {},
   "source": [
    "### Search by id\n",
    "\n",
    "Search entities based on their ID"
   ]
  },
  {
   "cell_type": "code",
   "execution_count": 81,
   "metadata": {
    "scrolled": true
   },
   "outputs": [
    {
     "name": "stdout",
     "output_type": "stream",
     "text": [
      "{\r\n",
      "    \"id\": \"my_entityasdaxaaada\",\r\n",
      "    \"type\": \"my_type\",\r\n",
      "    \"description\": {\r\n",
      "        \"type\": \"String\",\r\n",
      "        \"value\": \"Summary of this entity...\",\r\n",
      "        \"metadata\": {}\r\n",
      "    },\r\n",
      "    \"var1\": {\r\n",
      "        \"type\": \"Float\",\r\n",
      "        \"value\": 23.8,\r\n",
      "        \"metadata\": {}\r\n",
      "    }\r\n",
      "}\r\n",
      "\n"
     ]
    }
   ],
   "source": [
    "curl $ORION_SERVER:$ORION_PORT/v2/entities/$MY_UNIQUE_ID -s -S | python -m json.tool"
   ]
  },
  {
   "cell_type": "markdown",
   "metadata": {},
   "source": [
    "### List entities\n",
    "\n",
    "Reach all available entities"
   ]
  },
  {
   "cell_type": "code",
   "execution_count": 82,
   "metadata": {},
   "outputs": [
    {
     "name": "stdout",
     "output_type": "stream",
     "text": [
      "[\r\n",
      "    {\r\n",
      "        \"id\": \"my_entityasdada\",\r\n",
      "        \"type\": \"my_type\",\r\n",
      "        \"city_location\": {\r\n",
      "            \"type\": \"City\",\r\n",
      "            \"value\": \"Madrid\",\r\n",
      "            \"metadata\": {}\r\n",
      "        },\r\n",
      "        \"temperaturetttt\": {\r\n",
      "            \"type\": \"Number\",\r\n",
      "            \"value\": 23.8,\r\n",
      "            \"metadata\": {}\r\n",
      "        }\r\n",
      "    },\r\n",
      "    {\r\n",
      "        \"id\": \"my_entityasdaaada\",\r\n",
      "        \"type\": \"my_type\",\r\n",
      "        \"description\": {\r\n",
      "            \"type\": \"City\",\r\n",
      "            \"value\": \"Madrid\",\r\n",
      "            \"metadata\": {}\r\n",
      "        },\r\n",
      "        \"temperaturetttt\": {\r\n",
      "            \"type\": \"Number\",\r\n",
      "            \"value\": 23.8,\r\n",
      "            \"metadata\": {}\r\n",
      "        }\r\n",
      "    },\r\n",
      "    {\r\n",
      "        \"id\": \"my_entityasdaaaada\",\r\n",
      "        \"type\": \"my_type\",\r\n",
      "        \"description\": {\r\n",
      "            \"type\": \"String\",\r\n",
      "            \"value\": \"Summary of this entity...\",\r\n",
      "            \"metadata\": {}\r\n",
      "        },\r\n",
      "        \"temperaturetttt\": {\r\n",
      "            \"type\": \"Number\",\r\n",
      "            \"value\": 23.8,\r\n",
      "            \"metadata\": {}\r\n",
      "        }\r\n",
      "    },\r\n",
      "    {\r\n",
      "        \"id\": \"my_entityasdaxaaada\",\r\n",
      "        \"type\": \"my_type\",\r\n",
      "        \"description\": {\r\n",
      "            \"type\": \"String\",\r\n",
      "            \"value\": \"Summary of this entity...\",\r\n",
      "            \"metadata\": {}\r\n",
      "        },\r\n",
      "        \"var1\": {\r\n",
      "            \"type\": \"Float\",\r\n",
      "            \"value\": 23.8,\r\n",
      "            \"metadata\": {}\r\n",
      "        }\r\n",
      "    }\r\n",
      "]\r\n",
      "\n"
     ]
    }
   ],
   "source": [
    "curl $ORION_SERVER:$ORION_PORT/v2/entities?type=$MY_TYPE -s -S | python -m json.tool"
   ]
  },
  {
   "cell_type": "markdown",
   "metadata": {},
   "source": [
    "### Update our entity\n",
    "Updating var1 value to 26.5"
   ]
  },
  {
   "cell_type": "code",
   "execution_count": 91,
   "metadata": {},
   "outputs": [
    {
     "name": "stdout",
     "output_type": "stream",
     "text": [
      "\n"
     ]
    }
   ],
   "source": [
    "curl $ORION_SERVER:$ORION_PORT/v2/entities/$MY_UNIQUE_ID/attrs -s -S --header 'Content-Type: application/json' \\\n",
    "     -X PATCH -d @- <<EOF\n",
    "{\n",
    "  \"var1\": {\n",
    "    \"value\": 26.5,\n",
    "    \"type\": \"Float\"\n",
    "  }\n",
    "}\n",
    "EOF\n"
   ]
  },
  {
   "cell_type": "code",
   "execution_count": 88,
   "metadata": {},
   "outputs": [
    {
     "name": "stdout",
     "output_type": "stream",
     "text": [
      "{\r\n",
      "    \"id\": \"my_entityasdaxaaada\",\r\n",
      "    \"type\": \"my_type\",\r\n",
      "    \"description\": {\r\n",
      "        \"type\": \"String\",\r\n",
      "        \"value\": \"Summary of this entity...\",\r\n",
      "        \"metadata\": {}\r\n",
      "    },\r\n",
      "    \"var1\": {\r\n",
      "        \"type\": \"Float\",\r\n",
      "        \"value\": 26.5,\r\n",
      "        \"metadata\": {}\r\n",
      "    }\r\n",
      "}\r\n",
      "\n"
     ]
    }
   ],
   "source": [
    "curl $ORION_SERVER:$ORION_PORT/v2/entities/$MY_UNIQUE_ID -s -S | python -m json.tool"
   ]
  },
  {
   "cell_type": "markdown",
   "metadata": {},
   "source": [
    "### Subscriptions\n",
    "\n",
    "In this example we will create a subscription for $MY_ENTITY that notifies our stack about var 1 changes.\n",
    "\n",
    "To notify changes, it will make a POST at http://$ENTITY_IP:$ENTITY_PORT passing var1, with a throttling of 5 seconds."
   ]
  },
  {
   "cell_type": "code",
   "execution_count": 12,
   "metadata": {},
   "outputs": [
    {
     "name": "stdout",
     "output_type": "stream",
     "text": [
      "*   Trying 192.168.4.230...\r\n",
      "* TCP_NODELAY set\r\n",
      "* Connected to 192.168.4.230 (192.168.4.230) port 80 (#0)\r\n",
      "> POST /v2/subscriptions HTTP/1.1\r",
      "\r\n",
      "> Host: 192.168.4.230\r",
      "\r\n",
      "> User-Agent: curl/7.54.0\r",
      "\r\n",
      "> Accept: */*\r",
      "\r\n",
      "> Content-Type: application/json\r",
      "\r\n",
      "> Content-Length: 386\r",
      "\r\n",
      "> \r",
      "\r\n",
      "* upload completely sent off: 386 out of 386 bytes\r\n",
      "< HTTP/1.1 201 Created\r",
      "\r\n",
      "< Connection: Keep-Alive\r",
      "\r\n",
      "< Content-Length: 0\r",
      "\r\n",
      "< Location: /v2/subscriptions/5a9aaf2ca19822d8d0ed6190\r",
      "\r\n",
      "< Fiware-Correlator: 0619b9c6-1eee-11e8-8760-0242ac110003\r",
      "\r\n",
      "< Date: Sat, 03 Mar 2018 14:20:28 GMT\r",
      "\r\n",
      "< \r",
      "\r\n",
      "* Connection #0 to host 192.168.4.230 left intact\r\n",
      "\n"
     ]
    }
   ],
   "source": [
    "curl -v $ORION_SERVER:$ORION_PORT/v2/subscriptions -s -S --header 'Content-Type: application/json' \\\n",
    "    -d @- <<EOF\n",
    "{\n",
    "  \"description\": \"Subscripció de so per activar la cuna\",\n",
    "  \"subject\": {\n",
    "    \"entities\": [\n",
    "      {\n",
    "        \"id\": \"bressol\",\n",
    "        \"type\": \"bebe\"\n",
    "      }\n",
    "    ],\n",
    "    \"condition\": {\n",
    "      \"attrs\": [\n",
    "        \"estat\"\n",
    "      ]\n",
    "    }\n",
    "  },\n",
    "  \"notification\": {\n",
    "    \"http\": {\n",
    "      \"url\": \"http://192.168.4.28\"\n",
    "    },\n",
    "    \"attrs\": [\n",
    "      \"estat\"\n",
    "    ]\n",
    "  },\n",
    "  \"expires\": \"2040-01-01T14:00:00.00Z\",\n",
    "  \"throttling\": 1\n",
    "}\n",
    "EOF\n"
   ]
  },
  {
   "cell_type": "code",
   "execution_count": null,
   "metadata": {},
   "outputs": [],
   "source": []
  },
  {
   "cell_type": "code",
   "execution_count": 13,
   "metadata": {},
   "outputs": [
    {
     "name": "stdout",
     "output_type": "stream",
     "text": [
      "\n"
     ]
    }
   ],
   "source": [
    "curl http://84.89.60.4/v2/entities/bressol/attrs -s -S --header 'Content-Type: application/json' \\\n",
    "     -X PATCH -d @- <<EOF\n",
    "{\n",
    "  \"estat\": {\n",
    "    \"value\": \"off\",\n",
    "    \"type\": \"String\"\n",
    "  }\n",
    "}\n",
    "EOF"
   ]
  },
  {
   "cell_type": "code",
   "execution_count": null,
   "metadata": {},
   "outputs": [],
   "source": []
  }
 ],
 "metadata": {
  "kernelspec": {
   "display_name": "Calysto Bash",
   "language": "bash",
   "name": "calysto_bash"
  },
  "language_info": {
   "file_extension": ".sh",
   "help_links": [
    {
     "text": "MetaKernel Magics",
     "url": "https://github.com/calysto/metakernel/blob/master/metakernel/magics/README.md"
    }
   ],
   "mimetype": "text/x-sh",
   "name": "bash",
   "version": "0.2.0"
  }
 },
 "nbformat": 4,
 "nbformat_minor": 2
}
